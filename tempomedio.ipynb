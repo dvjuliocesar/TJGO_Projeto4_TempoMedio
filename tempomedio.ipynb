{
 "cells": [
  {
   "cell_type": "code",
   "execution_count": 1,
   "id": "dd2c31b0",
   "metadata": {
    "vscode": {
     "languageId": "ruby"
    }
   },
   "outputs": [
    {
     "name": "stdout",
     "output_type": "stream",
     "text": [
      "Resultados serão salvos na pasta: 'resultados_da_analise'\n",
      "Cálculo do tempo médio concluído com sucesso!\n"
     ]
    }
   ],
   "source": [
    "# Importando Bibliotecas:\n",
    "import pandas as pd\n",
    "import numpy as np\n",
    "from pathlib import Path\n",
    "\n",
    "# Cálculo do Tempo médio:\n",
    "def calcular_tempo_medio(caminho_arquivo_entrada: str, pasta_saida: str):\n",
    "    # 1. Ler o arquivo de entrada\n",
    "    caminho_entrada = Path(caminho_arquivo_entrada)\n",
    "    if not caminho_entrada.is_file():\n",
    "        print(f\"Error: Arquivo de entrada não encontrado em '{caminho_entrada}'\")\n",
    "        return\n",
    "    \n",
    "    # 2. Criar pasta de saída se não existir:\n",
    "    caminho_saida = Path(pasta_saida)\n",
    "    caminho_saida.mkdir(parents=True, exist_ok=True)\n",
    "    print(f\"Resultados serão salvos na pasta: '{caminho_saida}'\")\n",
    "\n",
    "    # 3. Carregamento dos Dados:\n",
    "    try:\n",
    "        df = pd.read_csv(caminho_entrada, sep=',', encoding='utf-8', low_memory=False)\n",
    "        \n",
    "        # 4. Limpeza e Preparação dos Dados:\n",
    "        # 4.1. Converte as colunas de data para o formato datetime:\n",
    "        df['data_distribuicao'] = pd.to_datetime(df['data_distribuicao'], errors='coerce', format='%Y-%m-%d')\n",
    "        df['data_baixa'] = pd.to_datetime(df['data_baixa'], errors='coerce', format='%Y-%m-%d')\n",
    "\n",
    "        # 4.2. Remove linhas com datas nulas:\n",
    "        df = df.dropna(subset=['data_distribuicao', 'data_baixa'])\n",
    "\n",
    "        # 4.3. Calcula a diferença de tempo (duração):\n",
    "        df['tempo_processual'] = (df['data_baixa'] - df['data_distribuicao']).dt.days\n",
    "\n",
    "        # 4.4. Garante que não há durações negativas:\n",
    "        df = df[df['tempo_processual'] >= 0]\n",
    "        \n",
    "        # 5. Calcula o Tempo Médio por Instância, Entrância, Comarca e Serventia:\n",
    "        media_por_inst_ent_com_ser = df.groupby(['instancia','entrancia','comarca', 'serventia'])['tempo_processual'].mean().round(2).reset_index()\n",
    "        media_por_inst_ent_com_ser.rename(columns={'tempo_processual': 'tempo_medio_dias'}, inplace=True)\n",
    "\n",
    "        # 5. Salvando os Resultados em CSV:\n",
    "        caminho_inst_ent_com_ser = caminho_saida / 'media_por_inst_ent_com_ser.csv' \n",
    "        media_por_inst_ent_com_ser.to_csv(caminho_inst_ent_com_ser, index=False, sep=',', encoding='utf-8')\n",
    "\n",
    "        print(\"Cálculo do tempo médio concluído com sucesso!\")\n",
    "   \n",
    "    except FileNotFoundError:\n",
    "        print(f\"Error: O arquivo '{caminho_arquivo_entrada}' não foi encontrado.\")\n",
    "    except KeyError as e:\n",
    "        print(f\"Error: Coluna ausente no DataFrame - {e}. Verifique se os nomes das colunas estão corretos.\")\n",
    "    except Exception as e:\n",
    "        print(f\"Error: Ocorreu um erro inesperado durante o processamento: {e}\")\n",
    "\n",
    "# Aplicando a função:\n",
    "caminho_arquivo_entrada = 'uploads/relatorio_processos_2024-07-01_a_2025-06-30.csv'\n",
    "pasta_saida = 'resultados_da_analise'\n",
    "\n",
    "calcular_tempo_medio(caminho_arquivo_entrada, pasta_saida)\n"
   ]
  }
 ],
 "metadata": {
  "kernelspec": {
   "display_name": ".venv",
   "language": "python",
   "name": "python3"
  },
  "language_info": {
   "codemirror_mode": {
    "name": "ipython",
    "version": 3
   },
   "file_extension": ".py",
   "mimetype": "text/x-python",
   "name": "python",
   "nbconvert_exporter": "python",
   "pygments_lexer": "ipython3",
   "version": "3.9.13"
  }
 },
 "nbformat": 4,
 "nbformat_minor": 5
}
